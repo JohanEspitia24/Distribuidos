{
 "cells": [
  {
   "cell_type": "code",
   "execution_count": 12,
   "metadata": {},
   "outputs": [
    {
     "name": "stdout",
     "output_type": "stream",
     "text": [
      "{http://schemas.xmlsoap.org/soap/envelope/}Envelope None\n",
      "{http://schemas.xmlsoap.org/soap/envelope/}Body None\n",
      "{https://www.w3schools.com/xml/}CelsiusToFahrenheitResponse None\n",
      "{https://www.w3schools.com/xml/}CelsiusToFahrenheitResult 68\n"
     ]
    }
   ],
   "source": [
    "import requests \n",
    "import xml.etree.ElementTree as ET #importing the xml library\n",
    "\n",
    "url=\"https://www.w3schools.com/xml/tempconvert.asmx\" #url of the web service\n",
    "SOAPEnvelope = \"\"\"<soap:Envelope xmlns:xsi=\"http://www.w3.org/2001/XMLSchema-instance\" xmlns:xsd=\"http://www.w3.org/2001/XMLSchema\" xmlns:soap=\"http://schemas.xmlsoap.org/soap/envelope/\">\n",
    "    <soap:Body>\n",
    "        <CelsiusToFahrenheit xmlns=\"https://www.w3schools.com/xml/\">\n",
    "            <Celsius>20</Celsius>\n",
    "        </CelsiusToFahrenheit>\n",
    "    </soap:Body>\n",
    "</soap:Envelope> \"\"\" #SOAP envelope for the request\n",
    "\n",
    "#sending the request\n",
    "options = {\n",
    "    \"Content-Type\": \"text/xml; charset=utf-8\"\n",
    "}\n",
    "\n",
    "#sending the request\n",
    "response = requests.post(url, data = SOAPEnvelope, headers = options)\n",
    "root = ET.fromstring(response.text)\n",
    "\n",
    "for child in root.iter(\"*\"): #iterating through the xml response\n",
    "    print(child.tag , child.text) #printing the response\n",
    "\n",
    "#output\n",
    "for child in root.iter(\"https://www.w3schools.com/xml/}CelsiusToFahrenheitResult\"):\n",
    "    print(child.text) #printing the response\n"
   ]
  }
 ],
 "metadata": {
  "kernelspec": {
   "display_name": "Python 3",
   "language": "python",
   "name": "python3"
  },
  "language_info": {
   "codemirror_mode": {
    "name": "ipython",
    "version": 3
   },
   "file_extension": ".py",
   "mimetype": "text/x-python",
   "name": "python",
   "nbconvert_exporter": "python",
   "pygments_lexer": "ipython3",
   "version": "3.12.2"
  }
 },
 "nbformat": 4,
 "nbformat_minor": 2
}
